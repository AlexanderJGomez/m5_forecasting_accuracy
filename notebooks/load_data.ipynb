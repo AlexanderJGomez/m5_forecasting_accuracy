{
  "nbformat": 4,
  "nbformat_minor": 0,
  "metadata": {
    "kernelspec": {
      "display_name": "Python 3",
      "language": "python",
      "name": "python3"
    },
    "language_info": {
      "codemirror_mode": {
        "name": "ipython",
        "version": 3
      },
      "file_extension": ".py",
      "mimetype": "text/x-python",
      "name": "python",
      "nbconvert_exporter": "python",
      "pygments_lexer": "ipython3",
      "version": "3.6.9"
    },
    "latex_envs": {
      "LaTeX_envs_menu_present": true,
      "autoclose": false,
      "autocomplete": true,
      "bibliofile": "biblio.bib",
      "cite_by": "apalike",
      "current_citInitial": 1,
      "eqLabelWithNumbers": true,
      "eqNumInitial": 1,
      "hotkeys": {
        "equation": "Ctrl-E",
        "itemize": "Ctrl-I"
      },
      "labels_anchors": false,
      "latex_user_defs": false,
      "report_style_numbering": false,
      "user_envs_cfg": false
    },
    "colab": {
      "name": "load_data.ipynb",
      "provenance": [],
      "machine_shape": "hm"
    }
  },
  "cells": [
    {
      "cell_type": "code",
      "metadata": {
        "id": "zGc7zEaelphr",
        "colab_type": "code",
        "colab": {}
      },
      "source": [
        "import numpy as np\n",
        "import pandas as pd\n",
        "import gc\n",
        "import sklearn.metrics\n",
        "from fbprophet import Prophet"
      ],
      "execution_count": 0,
      "outputs": []
    },
    {
      "cell_type": "markdown",
      "metadata": {
        "id": "0iquHXP-tSrz",
        "colab_type": "text"
      },
      "source": [
        "## Stuff below is to load the CSV's through google drive. Way too slow otherwise."
      ]
    },
    {
      "cell_type": "code",
      "metadata": {
        "id": "ekZCnyaEpOg2",
        "colab_type": "code",
        "colab": {}
      },
      "source": [
        "!pip install -U -q PyDrive\n",
        "from pydrive.auth import GoogleAuth\n",
        "from pydrive.drive import GoogleDrive\n",
        "from google.colab import auth\n",
        "from oauth2client.client import GoogleCredentials\n",
        "# Authenticate and create the PyDrive client. You'll need to do this in order to load the CSV files from drive\n",
        "\n",
        "auth.authenticate_user()\n",
        "gauth = GoogleAuth()\n",
        "gauth.credentials = GoogleCredentials.get_application_default()\n",
        "drive = GoogleDrive(gauth)\n"
      ],
      "execution_count": 0,
      "outputs": []
    },
    {
      "cell_type": "code",
      "metadata": {
        "id": "F3DHoZIGlph6",
        "colab_type": "code",
        "colab": {}
      },
      "source": [
        "calendar_csv_drive_link = \"https://drive.google.com/open?id=11FCINUYChtNJHRyY1mzbhaDWgVwlJzA9\"\n",
        "sales_train_validation_csv_drive_link = \"https://drive.google.com/open?id=1CrJXm3TJBVoLwlG607kIFNCoxBPRem6C\"\n",
        "sample_submission_csv_drive_link = \"https://drive.google.com/open?id=1F6ORVpIh5r-998HfGpv_jmitIQVc7d9j\"\n",
        "sell_prices_csv_drive_link = \"https://drive.google.com/open?id=1BT-IveptPb3BjNcVt-sFWHabnrubwsGD\"\n",
        "\n",
        "calendar_id = calendar_csv_drive_link.split(\"=\")[-1]\n",
        "sales_train_val_id = sales_train_validation_csv_drive_link.split(\"=\")[-1]\n",
        "sample_submission_id = sample_submission_csv_drive_link.split(\"=\")[-1]\n",
        "sell_prices_id = sell_prices_csv_drive_link.split(\"=\")[-1]\n",
        "\n",
        "downloaded_calendar = drive.CreateFile({'id': calendar_id})\n",
        "downloaded_calendar.GetContentFile('calendar.csv')\n",
        "\n",
        "downloaded_sales_train = drive.CreateFile({'id': sales_train_val_id})\n",
        "downloaded_sales_train.GetContentFile('sales_train_validation.csv')\n",
        "\n",
        "downloaded_sales_train = drive.CreateFile({'id': sample_submission_id})\n",
        "downloaded_sales_train.GetContentFile('sample_submission.csv')\n",
        "\n",
        "downloaded_sales_train = drive.CreateFile({'id': sell_prices_id})\n",
        "downloaded_sales_train.GetContentFile('sell_prices.csv')"
      ],
      "execution_count": 0,
      "outputs": []
    },
    {
      "cell_type": "markdown",
      "metadata": {
        "id": "qDUrgGc1lph_",
        "colab_type": "text"
      },
      "source": [
        "Loading the data into DataFrames"
      ]
    },
    {
      "cell_type": "code",
      "metadata": {
        "ExecuteTime": {
          "end_time": "2020-05-05T04:15:16.247197Z",
          "start_time": "2020-05-05T04:15:00.758051Z"
        },
        "id": "cXojZ8D0lph_",
        "colab_type": "code",
        "outputId": "3314bfa5-8037-4df3-fe8b-39e4350db87b",
        "colab": {
          "base_uri": "https://localhost:8080/",
          "height": 34
        }
      },
      "source": [
        "sell_prices_df = pd.read_csv('sell_prices.csv')\n",
        "sales_train_val_df = pd.read_csv('sales_train_validation.csv')\n",
        "calendar_df = pd.read_csv('calendar.csv')\n",
        "sell_prices_df.shape, sales_train_val_df.shape"
      ],
      "execution_count": 4,
      "outputs": [
        {
          "output_type": "execute_result",
          "data": {
            "text/plain": [
              "((6841121, 4), (30490, 1919))"
            ]
          },
          "metadata": {
            "tags": []
          },
          "execution_count": 4
        }
      ]
    },
    {
      "cell_type": "markdown",
      "metadata": {
        "id": "VEy3uJqkxfw1",
        "colab_type": "text"
      },
      "source": [
        "### Just taking a gander"
      ]
    },
    {
      "cell_type": "code",
      "metadata": {
        "ExecuteTime": {
          "end_time": "2020-05-05T04:15:16.298100Z",
          "start_time": "2020-05-05T04:15:16.250369Z"
        },
        "id": "nxX7iBI9lpiH",
        "colab_type": "code",
        "outputId": "4353ffe5-6cf4-402e-8a23-755ef79837a6",
        "colab": {
          "base_uri": "https://localhost:8080/",
          "height": 253
        }
      },
      "source": [
        "sales_train_val_df.head()"
      ],
      "execution_count": 5,
      "outputs": [
        {
          "output_type": "execute_result",
          "data": {
            "text/html": [
              "<div>\n",
              "<style scoped>\n",
              "    .dataframe tbody tr th:only-of-type {\n",
              "        vertical-align: middle;\n",
              "    }\n",
              "\n",
              "    .dataframe tbody tr th {\n",
              "        vertical-align: top;\n",
              "    }\n",
              "\n",
              "    .dataframe thead th {\n",
              "        text-align: right;\n",
              "    }\n",
              "</style>\n",
              "<table border=\"1\" class=\"dataframe\">\n",
              "  <thead>\n",
              "    <tr style=\"text-align: right;\">\n",
              "      <th></th>\n",
              "      <th>id</th>\n",
              "      <th>item_id</th>\n",
              "      <th>dept_id</th>\n",
              "      <th>cat_id</th>\n",
              "      <th>store_id</th>\n",
              "      <th>state_id</th>\n",
              "      <th>d_1</th>\n",
              "      <th>d_2</th>\n",
              "      <th>d_3</th>\n",
              "      <th>d_4</th>\n",
              "      <th>d_5</th>\n",
              "      <th>d_6</th>\n",
              "      <th>d_7</th>\n",
              "      <th>d_8</th>\n",
              "      <th>d_9</th>\n",
              "      <th>d_10</th>\n",
              "      <th>d_11</th>\n",
              "      <th>d_12</th>\n",
              "      <th>d_13</th>\n",
              "      <th>d_14</th>\n",
              "      <th>d_15</th>\n",
              "      <th>d_16</th>\n",
              "      <th>d_17</th>\n",
              "      <th>d_18</th>\n",
              "      <th>d_19</th>\n",
              "      <th>d_20</th>\n",
              "      <th>d_21</th>\n",
              "      <th>d_22</th>\n",
              "      <th>d_23</th>\n",
              "      <th>d_24</th>\n",
              "      <th>d_25</th>\n",
              "      <th>d_26</th>\n",
              "      <th>d_27</th>\n",
              "      <th>d_28</th>\n",
              "      <th>d_29</th>\n",
              "      <th>d_30</th>\n",
              "      <th>d_31</th>\n",
              "      <th>d_32</th>\n",
              "      <th>d_33</th>\n",
              "      <th>d_34</th>\n",
              "      <th>...</th>\n",
              "      <th>d_1874</th>\n",
              "      <th>d_1875</th>\n",
              "      <th>d_1876</th>\n",
              "      <th>d_1877</th>\n",
              "      <th>d_1878</th>\n",
              "      <th>d_1879</th>\n",
              "      <th>d_1880</th>\n",
              "      <th>d_1881</th>\n",
              "      <th>d_1882</th>\n",
              "      <th>d_1883</th>\n",
              "      <th>d_1884</th>\n",
              "      <th>d_1885</th>\n",
              "      <th>d_1886</th>\n",
              "      <th>d_1887</th>\n",
              "      <th>d_1888</th>\n",
              "      <th>d_1889</th>\n",
              "      <th>d_1890</th>\n",
              "      <th>d_1891</th>\n",
              "      <th>d_1892</th>\n",
              "      <th>d_1893</th>\n",
              "      <th>d_1894</th>\n",
              "      <th>d_1895</th>\n",
              "      <th>d_1896</th>\n",
              "      <th>d_1897</th>\n",
              "      <th>d_1898</th>\n",
              "      <th>d_1899</th>\n",
              "      <th>d_1900</th>\n",
              "      <th>d_1901</th>\n",
              "      <th>d_1902</th>\n",
              "      <th>d_1903</th>\n",
              "      <th>d_1904</th>\n",
              "      <th>d_1905</th>\n",
              "      <th>d_1906</th>\n",
              "      <th>d_1907</th>\n",
              "      <th>d_1908</th>\n",
              "      <th>d_1909</th>\n",
              "      <th>d_1910</th>\n",
              "      <th>d_1911</th>\n",
              "      <th>d_1912</th>\n",
              "      <th>d_1913</th>\n",
              "    </tr>\n",
              "  </thead>\n",
              "  <tbody>\n",
              "    <tr>\n",
              "      <th>0</th>\n",
              "      <td>HOBBIES_1_001_CA_1_validation</td>\n",
              "      <td>HOBBIES_1_001</td>\n",
              "      <td>HOBBIES_1</td>\n",
              "      <td>HOBBIES</td>\n",
              "      <td>CA_1</td>\n",
              "      <td>CA</td>\n",
              "      <td>0</td>\n",
              "      <td>0</td>\n",
              "      <td>0</td>\n",
              "      <td>0</td>\n",
              "      <td>0</td>\n",
              "      <td>0</td>\n",
              "      <td>0</td>\n",
              "      <td>0</td>\n",
              "      <td>0</td>\n",
              "      <td>0</td>\n",
              "      <td>0</td>\n",
              "      <td>0</td>\n",
              "      <td>0</td>\n",
              "      <td>0</td>\n",
              "      <td>0</td>\n",
              "      <td>0</td>\n",
              "      <td>0</td>\n",
              "      <td>0</td>\n",
              "      <td>0</td>\n",
              "      <td>0</td>\n",
              "      <td>0</td>\n",
              "      <td>0</td>\n",
              "      <td>0</td>\n",
              "      <td>0</td>\n",
              "      <td>0</td>\n",
              "      <td>0</td>\n",
              "      <td>0</td>\n",
              "      <td>0</td>\n",
              "      <td>0</td>\n",
              "      <td>0</td>\n",
              "      <td>0</td>\n",
              "      <td>0</td>\n",
              "      <td>0</td>\n",
              "      <td>0</td>\n",
              "      <td>...</td>\n",
              "      <td>1</td>\n",
              "      <td>1</td>\n",
              "      <td>3</td>\n",
              "      <td>1</td>\n",
              "      <td>3</td>\n",
              "      <td>1</td>\n",
              "      <td>2</td>\n",
              "      <td>2</td>\n",
              "      <td>0</td>\n",
              "      <td>1</td>\n",
              "      <td>1</td>\n",
              "      <td>1</td>\n",
              "      <td>1</td>\n",
              "      <td>0</td>\n",
              "      <td>0</td>\n",
              "      <td>0</td>\n",
              "      <td>0</td>\n",
              "      <td>0</td>\n",
              "      <td>1</td>\n",
              "      <td>0</td>\n",
              "      <td>4</td>\n",
              "      <td>2</td>\n",
              "      <td>3</td>\n",
              "      <td>0</td>\n",
              "      <td>1</td>\n",
              "      <td>2</td>\n",
              "      <td>0</td>\n",
              "      <td>0</td>\n",
              "      <td>0</td>\n",
              "      <td>1</td>\n",
              "      <td>1</td>\n",
              "      <td>3</td>\n",
              "      <td>0</td>\n",
              "      <td>1</td>\n",
              "      <td>1</td>\n",
              "      <td>1</td>\n",
              "      <td>3</td>\n",
              "      <td>0</td>\n",
              "      <td>1</td>\n",
              "      <td>1</td>\n",
              "    </tr>\n",
              "    <tr>\n",
              "      <th>1</th>\n",
              "      <td>HOBBIES_1_002_CA_1_validation</td>\n",
              "      <td>HOBBIES_1_002</td>\n",
              "      <td>HOBBIES_1</td>\n",
              "      <td>HOBBIES</td>\n",
              "      <td>CA_1</td>\n",
              "      <td>CA</td>\n",
              "      <td>0</td>\n",
              "      <td>0</td>\n",
              "      <td>0</td>\n",
              "      <td>0</td>\n",
              "      <td>0</td>\n",
              "      <td>0</td>\n",
              "      <td>0</td>\n",
              "      <td>0</td>\n",
              "      <td>0</td>\n",
              "      <td>0</td>\n",
              "      <td>0</td>\n",
              "      <td>0</td>\n",
              "      <td>0</td>\n",
              "      <td>0</td>\n",
              "      <td>0</td>\n",
              "      <td>0</td>\n",
              "      <td>0</td>\n",
              "      <td>0</td>\n",
              "      <td>0</td>\n",
              "      <td>0</td>\n",
              "      <td>0</td>\n",
              "      <td>0</td>\n",
              "      <td>0</td>\n",
              "      <td>0</td>\n",
              "      <td>0</td>\n",
              "      <td>0</td>\n",
              "      <td>0</td>\n",
              "      <td>0</td>\n",
              "      <td>0</td>\n",
              "      <td>0</td>\n",
              "      <td>0</td>\n",
              "      <td>0</td>\n",
              "      <td>0</td>\n",
              "      <td>0</td>\n",
              "      <td>...</td>\n",
              "      <td>0</td>\n",
              "      <td>0</td>\n",
              "      <td>0</td>\n",
              "      <td>0</td>\n",
              "      <td>0</td>\n",
              "      <td>0</td>\n",
              "      <td>0</td>\n",
              "      <td>0</td>\n",
              "      <td>1</td>\n",
              "      <td>1</td>\n",
              "      <td>1</td>\n",
              "      <td>1</td>\n",
              "      <td>1</td>\n",
              "      <td>0</td>\n",
              "      <td>0</td>\n",
              "      <td>0</td>\n",
              "      <td>0</td>\n",
              "      <td>0</td>\n",
              "      <td>0</td>\n",
              "      <td>0</td>\n",
              "      <td>0</td>\n",
              "      <td>0</td>\n",
              "      <td>0</td>\n",
              "      <td>0</td>\n",
              "      <td>0</td>\n",
              "      <td>0</td>\n",
              "      <td>0</td>\n",
              "      <td>0</td>\n",
              "      <td>0</td>\n",
              "      <td>0</td>\n",
              "      <td>0</td>\n",
              "      <td>0</td>\n",
              "      <td>0</td>\n",
              "      <td>0</td>\n",
              "      <td>0</td>\n",
              "      <td>1</td>\n",
              "      <td>0</td>\n",
              "      <td>0</td>\n",
              "      <td>0</td>\n",
              "      <td>0</td>\n",
              "    </tr>\n",
              "    <tr>\n",
              "      <th>2</th>\n",
              "      <td>HOBBIES_1_003_CA_1_validation</td>\n",
              "      <td>HOBBIES_1_003</td>\n",
              "      <td>HOBBIES_1</td>\n",
              "      <td>HOBBIES</td>\n",
              "      <td>CA_1</td>\n",
              "      <td>CA</td>\n",
              "      <td>0</td>\n",
              "      <td>0</td>\n",
              "      <td>0</td>\n",
              "      <td>0</td>\n",
              "      <td>0</td>\n",
              "      <td>0</td>\n",
              "      <td>0</td>\n",
              "      <td>0</td>\n",
              "      <td>0</td>\n",
              "      <td>0</td>\n",
              "      <td>0</td>\n",
              "      <td>0</td>\n",
              "      <td>0</td>\n",
              "      <td>0</td>\n",
              "      <td>0</td>\n",
              "      <td>0</td>\n",
              "      <td>0</td>\n",
              "      <td>0</td>\n",
              "      <td>0</td>\n",
              "      <td>0</td>\n",
              "      <td>0</td>\n",
              "      <td>0</td>\n",
              "      <td>0</td>\n",
              "      <td>0</td>\n",
              "      <td>0</td>\n",
              "      <td>0</td>\n",
              "      <td>0</td>\n",
              "      <td>0</td>\n",
              "      <td>0</td>\n",
              "      <td>0</td>\n",
              "      <td>0</td>\n",
              "      <td>0</td>\n",
              "      <td>0</td>\n",
              "      <td>0</td>\n",
              "      <td>...</td>\n",
              "      <td>0</td>\n",
              "      <td>0</td>\n",
              "      <td>1</td>\n",
              "      <td>0</td>\n",
              "      <td>0</td>\n",
              "      <td>0</td>\n",
              "      <td>0</td>\n",
              "      <td>0</td>\n",
              "      <td>0</td>\n",
              "      <td>1</td>\n",
              "      <td>1</td>\n",
              "      <td>0</td>\n",
              "      <td>0</td>\n",
              "      <td>0</td>\n",
              "      <td>0</td>\n",
              "      <td>0</td>\n",
              "      <td>0</td>\n",
              "      <td>0</td>\n",
              "      <td>1</td>\n",
              "      <td>0</td>\n",
              "      <td>0</td>\n",
              "      <td>0</td>\n",
              "      <td>1</td>\n",
              "      <td>0</td>\n",
              "      <td>0</td>\n",
              "      <td>0</td>\n",
              "      <td>0</td>\n",
              "      <td>0</td>\n",
              "      <td>1</td>\n",
              "      <td>2</td>\n",
              "      <td>2</td>\n",
              "      <td>1</td>\n",
              "      <td>2</td>\n",
              "      <td>1</td>\n",
              "      <td>1</td>\n",
              "      <td>1</td>\n",
              "      <td>0</td>\n",
              "      <td>1</td>\n",
              "      <td>1</td>\n",
              "      <td>1</td>\n",
              "    </tr>\n",
              "    <tr>\n",
              "      <th>3</th>\n",
              "      <td>HOBBIES_1_004_CA_1_validation</td>\n",
              "      <td>HOBBIES_1_004</td>\n",
              "      <td>HOBBIES_1</td>\n",
              "      <td>HOBBIES</td>\n",
              "      <td>CA_1</td>\n",
              "      <td>CA</td>\n",
              "      <td>0</td>\n",
              "      <td>0</td>\n",
              "      <td>0</td>\n",
              "      <td>0</td>\n",
              "      <td>0</td>\n",
              "      <td>0</td>\n",
              "      <td>0</td>\n",
              "      <td>0</td>\n",
              "      <td>0</td>\n",
              "      <td>0</td>\n",
              "      <td>0</td>\n",
              "      <td>0</td>\n",
              "      <td>0</td>\n",
              "      <td>0</td>\n",
              "      <td>0</td>\n",
              "      <td>0</td>\n",
              "      <td>0</td>\n",
              "      <td>0</td>\n",
              "      <td>0</td>\n",
              "      <td>0</td>\n",
              "      <td>0</td>\n",
              "      <td>0</td>\n",
              "      <td>0</td>\n",
              "      <td>0</td>\n",
              "      <td>0</td>\n",
              "      <td>0</td>\n",
              "      <td>0</td>\n",
              "      <td>0</td>\n",
              "      <td>0</td>\n",
              "      <td>0</td>\n",
              "      <td>0</td>\n",
              "      <td>0</td>\n",
              "      <td>0</td>\n",
              "      <td>0</td>\n",
              "      <td>...</td>\n",
              "      <td>1</td>\n",
              "      <td>3</td>\n",
              "      <td>4</td>\n",
              "      <td>2</td>\n",
              "      <td>1</td>\n",
              "      <td>4</td>\n",
              "      <td>1</td>\n",
              "      <td>3</td>\n",
              "      <td>5</td>\n",
              "      <td>0</td>\n",
              "      <td>6</td>\n",
              "      <td>6</td>\n",
              "      <td>0</td>\n",
              "      <td>0</td>\n",
              "      <td>0</td>\n",
              "      <td>0</td>\n",
              "      <td>3</td>\n",
              "      <td>1</td>\n",
              "      <td>2</td>\n",
              "      <td>1</td>\n",
              "      <td>3</td>\n",
              "      <td>1</td>\n",
              "      <td>0</td>\n",
              "      <td>2</td>\n",
              "      <td>5</td>\n",
              "      <td>4</td>\n",
              "      <td>2</td>\n",
              "      <td>0</td>\n",
              "      <td>3</td>\n",
              "      <td>0</td>\n",
              "      <td>1</td>\n",
              "      <td>0</td>\n",
              "      <td>5</td>\n",
              "      <td>4</td>\n",
              "      <td>1</td>\n",
              "      <td>0</td>\n",
              "      <td>1</td>\n",
              "      <td>3</td>\n",
              "      <td>7</td>\n",
              "      <td>2</td>\n",
              "    </tr>\n",
              "    <tr>\n",
              "      <th>4</th>\n",
              "      <td>HOBBIES_1_005_CA_1_validation</td>\n",
              "      <td>HOBBIES_1_005</td>\n",
              "      <td>HOBBIES_1</td>\n",
              "      <td>HOBBIES</td>\n",
              "      <td>CA_1</td>\n",
              "      <td>CA</td>\n",
              "      <td>0</td>\n",
              "      <td>0</td>\n",
              "      <td>0</td>\n",
              "      <td>0</td>\n",
              "      <td>0</td>\n",
              "      <td>0</td>\n",
              "      <td>0</td>\n",
              "      <td>0</td>\n",
              "      <td>0</td>\n",
              "      <td>0</td>\n",
              "      <td>0</td>\n",
              "      <td>0</td>\n",
              "      <td>0</td>\n",
              "      <td>0</td>\n",
              "      <td>0</td>\n",
              "      <td>0</td>\n",
              "      <td>0</td>\n",
              "      <td>0</td>\n",
              "      <td>0</td>\n",
              "      <td>0</td>\n",
              "      <td>0</td>\n",
              "      <td>0</td>\n",
              "      <td>0</td>\n",
              "      <td>0</td>\n",
              "      <td>0</td>\n",
              "      <td>0</td>\n",
              "      <td>0</td>\n",
              "      <td>0</td>\n",
              "      <td>0</td>\n",
              "      <td>0</td>\n",
              "      <td>0</td>\n",
              "      <td>0</td>\n",
              "      <td>0</td>\n",
              "      <td>0</td>\n",
              "      <td>...</td>\n",
              "      <td>1</td>\n",
              "      <td>0</td>\n",
              "      <td>3</td>\n",
              "      <td>2</td>\n",
              "      <td>2</td>\n",
              "      <td>2</td>\n",
              "      <td>3</td>\n",
              "      <td>1</td>\n",
              "      <td>0</td>\n",
              "      <td>0</td>\n",
              "      <td>0</td>\n",
              "      <td>0</td>\n",
              "      <td>1</td>\n",
              "      <td>0</td>\n",
              "      <td>4</td>\n",
              "      <td>4</td>\n",
              "      <td>0</td>\n",
              "      <td>1</td>\n",
              "      <td>4</td>\n",
              "      <td>0</td>\n",
              "      <td>1</td>\n",
              "      <td>0</td>\n",
              "      <td>1</td>\n",
              "      <td>0</td>\n",
              "      <td>1</td>\n",
              "      <td>1</td>\n",
              "      <td>2</td>\n",
              "      <td>0</td>\n",
              "      <td>1</td>\n",
              "      <td>1</td>\n",
              "      <td>2</td>\n",
              "      <td>1</td>\n",
              "      <td>1</td>\n",
              "      <td>0</td>\n",
              "      <td>1</td>\n",
              "      <td>1</td>\n",
              "      <td>2</td>\n",
              "      <td>2</td>\n",
              "      <td>2</td>\n",
              "      <td>4</td>\n",
              "    </tr>\n",
              "  </tbody>\n",
              "</table>\n",
              "<p>5 rows × 1919 columns</p>\n",
              "</div>"
            ],
            "text/plain": [
              "                              id        item_id  ... d_1912 d_1913\n",
              "0  HOBBIES_1_001_CA_1_validation  HOBBIES_1_001  ...      1      1\n",
              "1  HOBBIES_1_002_CA_1_validation  HOBBIES_1_002  ...      0      0\n",
              "2  HOBBIES_1_003_CA_1_validation  HOBBIES_1_003  ...      1      1\n",
              "3  HOBBIES_1_004_CA_1_validation  HOBBIES_1_004  ...      7      2\n",
              "4  HOBBIES_1_005_CA_1_validation  HOBBIES_1_005  ...      2      4\n",
              "\n",
              "[5 rows x 1919 columns]"
            ]
          },
          "metadata": {
            "tags": []
          },
          "execution_count": 5
        }
      ]
    },
    {
      "cell_type": "code",
      "metadata": {
        "id": "_cMr2kJvlpic",
        "colab_type": "code",
        "outputId": "ae7c5d75-0fdb-4b5d-d196-5de99397a3bb",
        "colab": {
          "base_uri": "https://localhost:8080/",
          "height": 204
        }
      },
      "source": [
        "calendar_df.head()"
      ],
      "execution_count": 6,
      "outputs": [
        {
          "output_type": "execute_result",
          "data": {
            "text/html": [
              "<div>\n",
              "<style scoped>\n",
              "    .dataframe tbody tr th:only-of-type {\n",
              "        vertical-align: middle;\n",
              "    }\n",
              "\n",
              "    .dataframe tbody tr th {\n",
              "        vertical-align: top;\n",
              "    }\n",
              "\n",
              "    .dataframe thead th {\n",
              "        text-align: right;\n",
              "    }\n",
              "</style>\n",
              "<table border=\"1\" class=\"dataframe\">\n",
              "  <thead>\n",
              "    <tr style=\"text-align: right;\">\n",
              "      <th></th>\n",
              "      <th>date</th>\n",
              "      <th>wm_yr_wk</th>\n",
              "      <th>weekday</th>\n",
              "      <th>wday</th>\n",
              "      <th>month</th>\n",
              "      <th>year</th>\n",
              "      <th>d</th>\n",
              "      <th>event_name_1</th>\n",
              "      <th>event_type_1</th>\n",
              "      <th>event_name_2</th>\n",
              "      <th>event_type_2</th>\n",
              "      <th>snap_CA</th>\n",
              "      <th>snap_TX</th>\n",
              "      <th>snap_WI</th>\n",
              "    </tr>\n",
              "  </thead>\n",
              "  <tbody>\n",
              "    <tr>\n",
              "      <th>0</th>\n",
              "      <td>2011-01-29</td>\n",
              "      <td>11101</td>\n",
              "      <td>Saturday</td>\n",
              "      <td>1</td>\n",
              "      <td>1</td>\n",
              "      <td>2011</td>\n",
              "      <td>d_1</td>\n",
              "      <td>NaN</td>\n",
              "      <td>NaN</td>\n",
              "      <td>NaN</td>\n",
              "      <td>NaN</td>\n",
              "      <td>0</td>\n",
              "      <td>0</td>\n",
              "      <td>0</td>\n",
              "    </tr>\n",
              "    <tr>\n",
              "      <th>1</th>\n",
              "      <td>2011-01-30</td>\n",
              "      <td>11101</td>\n",
              "      <td>Sunday</td>\n",
              "      <td>2</td>\n",
              "      <td>1</td>\n",
              "      <td>2011</td>\n",
              "      <td>d_2</td>\n",
              "      <td>NaN</td>\n",
              "      <td>NaN</td>\n",
              "      <td>NaN</td>\n",
              "      <td>NaN</td>\n",
              "      <td>0</td>\n",
              "      <td>0</td>\n",
              "      <td>0</td>\n",
              "    </tr>\n",
              "    <tr>\n",
              "      <th>2</th>\n",
              "      <td>2011-01-31</td>\n",
              "      <td>11101</td>\n",
              "      <td>Monday</td>\n",
              "      <td>3</td>\n",
              "      <td>1</td>\n",
              "      <td>2011</td>\n",
              "      <td>d_3</td>\n",
              "      <td>NaN</td>\n",
              "      <td>NaN</td>\n",
              "      <td>NaN</td>\n",
              "      <td>NaN</td>\n",
              "      <td>0</td>\n",
              "      <td>0</td>\n",
              "      <td>0</td>\n",
              "    </tr>\n",
              "    <tr>\n",
              "      <th>3</th>\n",
              "      <td>2011-02-01</td>\n",
              "      <td>11101</td>\n",
              "      <td>Tuesday</td>\n",
              "      <td>4</td>\n",
              "      <td>2</td>\n",
              "      <td>2011</td>\n",
              "      <td>d_4</td>\n",
              "      <td>NaN</td>\n",
              "      <td>NaN</td>\n",
              "      <td>NaN</td>\n",
              "      <td>NaN</td>\n",
              "      <td>1</td>\n",
              "      <td>1</td>\n",
              "      <td>0</td>\n",
              "    </tr>\n",
              "    <tr>\n",
              "      <th>4</th>\n",
              "      <td>2011-02-02</td>\n",
              "      <td>11101</td>\n",
              "      <td>Wednesday</td>\n",
              "      <td>5</td>\n",
              "      <td>2</td>\n",
              "      <td>2011</td>\n",
              "      <td>d_5</td>\n",
              "      <td>NaN</td>\n",
              "      <td>NaN</td>\n",
              "      <td>NaN</td>\n",
              "      <td>NaN</td>\n",
              "      <td>1</td>\n",
              "      <td>0</td>\n",
              "      <td>1</td>\n",
              "    </tr>\n",
              "  </tbody>\n",
              "</table>\n",
              "</div>"
            ],
            "text/plain": [
              "         date  wm_yr_wk    weekday  ...  snap_CA  snap_TX  snap_WI\n",
              "0  2011-01-29     11101   Saturday  ...        0        0        0\n",
              "1  2011-01-30     11101     Sunday  ...        0        0        0\n",
              "2  2011-01-31     11101     Monday  ...        0        0        0\n",
              "3  2011-02-01     11101    Tuesday  ...        1        1        0\n",
              "4  2011-02-02     11101  Wednesday  ...        1        0        1\n",
              "\n",
              "[5 rows x 14 columns]"
            ]
          },
          "metadata": {
            "tags": []
          },
          "execution_count": 6
        }
      ]
    },
    {
      "cell_type": "code",
      "metadata": {
        "id": "NLjlg4yTlpih",
        "colab_type": "code",
        "outputId": "aee32d2f-d9bf-4c16-c192-d5dc8745ba46",
        "colab": {
          "base_uri": "https://localhost:8080/",
          "height": 204
        }
      },
      "source": [
        "sell_prices_df.head()"
      ],
      "execution_count": 7,
      "outputs": [
        {
          "output_type": "execute_result",
          "data": {
            "text/html": [
              "<div>\n",
              "<style scoped>\n",
              "    .dataframe tbody tr th:only-of-type {\n",
              "        vertical-align: middle;\n",
              "    }\n",
              "\n",
              "    .dataframe tbody tr th {\n",
              "        vertical-align: top;\n",
              "    }\n",
              "\n",
              "    .dataframe thead th {\n",
              "        text-align: right;\n",
              "    }\n",
              "</style>\n",
              "<table border=\"1\" class=\"dataframe\">\n",
              "  <thead>\n",
              "    <tr style=\"text-align: right;\">\n",
              "      <th></th>\n",
              "      <th>store_id</th>\n",
              "      <th>item_id</th>\n",
              "      <th>wm_yr_wk</th>\n",
              "      <th>sell_price</th>\n",
              "    </tr>\n",
              "  </thead>\n",
              "  <tbody>\n",
              "    <tr>\n",
              "      <th>0</th>\n",
              "      <td>CA_1</td>\n",
              "      <td>HOBBIES_1_001</td>\n",
              "      <td>11325</td>\n",
              "      <td>9.58</td>\n",
              "    </tr>\n",
              "    <tr>\n",
              "      <th>1</th>\n",
              "      <td>CA_1</td>\n",
              "      <td>HOBBIES_1_001</td>\n",
              "      <td>11326</td>\n",
              "      <td>9.58</td>\n",
              "    </tr>\n",
              "    <tr>\n",
              "      <th>2</th>\n",
              "      <td>CA_1</td>\n",
              "      <td>HOBBIES_1_001</td>\n",
              "      <td>11327</td>\n",
              "      <td>8.26</td>\n",
              "    </tr>\n",
              "    <tr>\n",
              "      <th>3</th>\n",
              "      <td>CA_1</td>\n",
              "      <td>HOBBIES_1_001</td>\n",
              "      <td>11328</td>\n",
              "      <td>8.26</td>\n",
              "    </tr>\n",
              "    <tr>\n",
              "      <th>4</th>\n",
              "      <td>CA_1</td>\n",
              "      <td>HOBBIES_1_001</td>\n",
              "      <td>11329</td>\n",
              "      <td>8.26</td>\n",
              "    </tr>\n",
              "  </tbody>\n",
              "</table>\n",
              "</div>"
            ],
            "text/plain": [
              "  store_id        item_id  wm_yr_wk  sell_price\n",
              "0     CA_1  HOBBIES_1_001     11325        9.58\n",
              "1     CA_1  HOBBIES_1_001     11326        9.58\n",
              "2     CA_1  HOBBIES_1_001     11327        8.26\n",
              "3     CA_1  HOBBIES_1_001     11328        8.26\n",
              "4     CA_1  HOBBIES_1_001     11329        8.26"
            ]
          },
          "metadata": {
            "tags": []
          },
          "execution_count": 7
        }
      ]
    },
    {
      "cell_type": "markdown",
      "metadata": {
        "id": "hu6ZmOwjlpil",
        "colab_type": "text"
      },
      "source": [
        "Checking out the dtypes - reducing the int64's to make it more memory efficient. Also filling in the NaN's with \"unknown\""
      ]
    },
    {
      "cell_type": "code",
      "metadata": {
        "id": "fvoDsjSPlpim",
        "colab_type": "code",
        "outputId": "1f479bb9-32ce-4fa3-9e98-3cdb745fbe81",
        "colab": {
          "base_uri": "https://localhost:8080/",
          "height": 272
        }
      },
      "source": [
        "\n",
        "calendar_df[[\"month\", \"snap_CA\", \"snap_TX\", \"snap_WI\", \"wday\"]] = \\\n",
        "calendar_df[[\"month\", \"snap_CA\", \"snap_TX\", \"snap_WI\", \"wday\"]].astype(\"int8\")\n",
        "calendar_df[[\"wm_yr_wk\", \"year\"]] = calendar_df[[\"wm_yr_wk\", \"year\"]].astype(\"int16\") \n",
        "calendar_df[\"date\"] = calendar_df[\"date\"].astype(\"datetime64\")\n",
        "\n",
        "nan_features = ['event_name_1', 'event_type_1', 'event_name_2', 'event_type_2']\n",
        "for feature in nan_features:\n",
        "    calendar_df[feature].fillna('unknown', inplace = True)\n",
        "    \n",
        "print(calendar_df.dtypes)"
      ],
      "execution_count": 8,
      "outputs": [
        {
          "output_type": "stream",
          "text": [
            "date            datetime64[ns]\n",
            "wm_yr_wk                 int16\n",
            "weekday                 object\n",
            "wday                      int8\n",
            "month                     int8\n",
            "year                     int16\n",
            "d                       object\n",
            "event_name_1            object\n",
            "event_type_1            object\n",
            "event_name_2            object\n",
            "event_type_2            object\n",
            "snap_CA                   int8\n",
            "snap_TX                   int8\n",
            "snap_WI                   int8\n",
            "dtype: object\n"
          ],
          "name": "stdout"
        }
      ]
    },
    {
      "cell_type": "markdown",
      "metadata": {
        "id": "OJSkt7wEv8aI",
        "colab_type": "text"
      },
      "source": [
        "Seeing what events there are. Not sure how we should encode these but it looks small enough to me to have one hot... looks like it's going to be hella one hot encoding though?"
      ]
    },
    {
      "cell_type": "code",
      "metadata": {
        "id": "OUKIXJxcydrp",
        "colab_type": "code",
        "outputId": "1a2d2d0b-8a16-4577-e5a8-55fa3cffdc68",
        "colab": {
          "base_uri": "https://localhost:8080/",
          "height": 153
        }
      },
      "source": [
        "print(calendar_df.event_name_1.unique())\n",
        "print(calendar_df.event_name_2.unique())"
      ],
      "execution_count": 9,
      "outputs": [
        {
          "output_type": "stream",
          "text": [
            "['unknown' 'SuperBowl' 'ValentinesDay' 'PresidentsDay' 'LentStart'\n",
            " 'LentWeek2' 'StPatricksDay' 'Purim End' 'OrthodoxEaster' 'Pesach End'\n",
            " 'Cinco De Mayo' \"Mother's day\" 'MemorialDay' 'NBAFinalsStart'\n",
            " 'NBAFinalsEnd' \"Father's day\" 'IndependenceDay' 'Ramadan starts'\n",
            " 'Eid al-Fitr' 'LaborDay' 'ColumbusDay' 'Halloween' 'EidAlAdha'\n",
            " 'VeteransDay' 'Thanksgiving' 'Christmas' 'Chanukah End' 'NewYear'\n",
            " 'OrthodoxChristmas' 'MartinLutherKingDay' 'Easter']\n",
            "['unknown' 'Easter' 'Cinco De Mayo' 'OrthodoxEaster' \"Father's day\"]\n"
          ],
          "name": "stdout"
        }
      ]
    },
    {
      "cell_type": "markdown",
      "metadata": {
        "id": "fqkZNfocy4E8",
        "colab_type": "text"
      },
      "source": [
        "Ok so if we are going the route of combining the dataframes into one then that should be enough for the calendar for now. Let's look at sales_train_validation"
      ]
    },
    {
      "cell_type": "code",
      "metadata": {
        "id": "i4ipnmOnzYgM",
        "colab_type": "code",
        "outputId": "4424e9e0-f58b-47f0-878f-c775855301ff",
        "colab": {
          "base_uri": "https://localhost:8080/",
          "height": 221
        }
      },
      "source": [
        "sales_train_val_df.dtypes #welp that's a lot of  columns. good idea to make it smaller to take up less memory probably"
      ],
      "execution_count": 10,
      "outputs": [
        {
          "output_type": "execute_result",
          "data": {
            "text/plain": [
              "id          object\n",
              "item_id     object\n",
              "dept_id     object\n",
              "cat_id      object\n",
              "store_id    object\n",
              "             ...  \n",
              "d_1909       int64\n",
              "d_1910       int64\n",
              "d_1911       int64\n",
              "d_1912       int64\n",
              "d_1913       int64\n",
              "Length: 1919, dtype: object"
            ]
          },
          "metadata": {
            "tags": []
          },
          "execution_count": 10
        }
      ]
    },
    {
      "cell_type": "code",
      "metadata": {
        "id": "8vJZIOXzzn6O",
        "colab_type": "code",
        "colab": {}
      },
      "source": [
        "# Turning them into int16's. \n",
        "sales_train_val_df.loc[:, \"d_1\":] = sales_train_val_df.loc[:, \"d_1\":].astype('int16')"
      ],
      "execution_count": 0,
      "outputs": []
    },
    {
      "cell_type": "code",
      "metadata": {
        "id": "B_j1RKJp0Z7o",
        "colab_type": "code",
        "outputId": "4e700b0d-eab2-451b-bee9-f78de9452890",
        "colab": {
          "base_uri": "https://localhost:8080/",
          "height": 221
        }
      },
      "source": [
        "sales_train_val_df.dtypes"
      ],
      "execution_count": 12,
      "outputs": [
        {
          "output_type": "execute_result",
          "data": {
            "text/plain": [
              "id          object\n",
              "item_id     object\n",
              "dept_id     object\n",
              "cat_id      object\n",
              "store_id    object\n",
              "             ...  \n",
              "d_1909       int16\n",
              "d_1910       int16\n",
              "d_1911       int16\n",
              "d_1912       int16\n",
              "d_1913       int16\n",
              "Length: 1919, dtype: object"
            ]
          },
          "metadata": {
            "tags": []
          },
          "execution_count": 12
        }
      ]
    },
    {
      "cell_type": "code",
      "metadata": {
        "id": "dGcAvkYPVYpn",
        "colab_type": "code",
        "colab": {
          "base_uri": "https://localhost:8080/",
          "height": 204
        },
        "outputId": "5df7e69f-764e-46e4-8075-6e32e0594804"
      },
      "source": [
        "sell_prices_df.head()"
      ],
      "execution_count": 13,
      "outputs": [
        {
          "output_type": "execute_result",
          "data": {
            "text/html": [
              "<div>\n",
              "<style scoped>\n",
              "    .dataframe tbody tr th:only-of-type {\n",
              "        vertical-align: middle;\n",
              "    }\n",
              "\n",
              "    .dataframe tbody tr th {\n",
              "        vertical-align: top;\n",
              "    }\n",
              "\n",
              "    .dataframe thead th {\n",
              "        text-align: right;\n",
              "    }\n",
              "</style>\n",
              "<table border=\"1\" class=\"dataframe\">\n",
              "  <thead>\n",
              "    <tr style=\"text-align: right;\">\n",
              "      <th></th>\n",
              "      <th>store_id</th>\n",
              "      <th>item_id</th>\n",
              "      <th>wm_yr_wk</th>\n",
              "      <th>sell_price</th>\n",
              "    </tr>\n",
              "  </thead>\n",
              "  <tbody>\n",
              "    <tr>\n",
              "      <th>0</th>\n",
              "      <td>CA_1</td>\n",
              "      <td>HOBBIES_1_001</td>\n",
              "      <td>11325</td>\n",
              "      <td>9.58</td>\n",
              "    </tr>\n",
              "    <tr>\n",
              "      <th>1</th>\n",
              "      <td>CA_1</td>\n",
              "      <td>HOBBIES_1_001</td>\n",
              "      <td>11326</td>\n",
              "      <td>9.58</td>\n",
              "    </tr>\n",
              "    <tr>\n",
              "      <th>2</th>\n",
              "      <td>CA_1</td>\n",
              "      <td>HOBBIES_1_001</td>\n",
              "      <td>11327</td>\n",
              "      <td>8.26</td>\n",
              "    </tr>\n",
              "    <tr>\n",
              "      <th>3</th>\n",
              "      <td>CA_1</td>\n",
              "      <td>HOBBIES_1_001</td>\n",
              "      <td>11328</td>\n",
              "      <td>8.26</td>\n",
              "    </tr>\n",
              "    <tr>\n",
              "      <th>4</th>\n",
              "      <td>CA_1</td>\n",
              "      <td>HOBBIES_1_001</td>\n",
              "      <td>11329</td>\n",
              "      <td>8.26</td>\n",
              "    </tr>\n",
              "  </tbody>\n",
              "</table>\n",
              "</div>"
            ],
            "text/plain": [
              "  store_id        item_id  wm_yr_wk  sell_price\n",
              "0     CA_1  HOBBIES_1_001     11325        9.58\n",
              "1     CA_1  HOBBIES_1_001     11326        9.58\n",
              "2     CA_1  HOBBIES_1_001     11327        8.26\n",
              "3     CA_1  HOBBIES_1_001     11328        8.26\n",
              "4     CA_1  HOBBIES_1_001     11329        8.26"
            ]
          },
          "metadata": {
            "tags": []
          },
          "execution_count": 13
        }
      ]
    },
    {
      "cell_type": "code",
      "metadata": {
        "id": "CmGyhFmaVU_T",
        "colab_type": "code",
        "colab": {}
      },
      "source": [
        "# Make ID column to sell_price dataframe\n",
        "sell_prices_df.loc[:, \"id\"] = sell_prices_df.loc[:, \"item_id\"] + \"_\" + sell_prices_df.loc[:, \"store_id\"] + \"_validation\""
      ],
      "execution_count": 0,
      "outputs": []
    },
    {
      "cell_type": "code",
      "metadata": {
        "id": "kkQoxK5PVdjn",
        "colab_type": "code",
        "colab": {
          "base_uri": "https://localhost:8080/",
          "height": 204
        },
        "outputId": "61735534-b597-4bae-aaa4-093889cc173c"
      },
      "source": [
        "sell_prices_df.head()"
      ],
      "execution_count": 15,
      "outputs": [
        {
          "output_type": "execute_result",
          "data": {
            "text/html": [
              "<div>\n",
              "<style scoped>\n",
              "    .dataframe tbody tr th:only-of-type {\n",
              "        vertical-align: middle;\n",
              "    }\n",
              "\n",
              "    .dataframe tbody tr th {\n",
              "        vertical-align: top;\n",
              "    }\n",
              "\n",
              "    .dataframe thead th {\n",
              "        text-align: right;\n",
              "    }\n",
              "</style>\n",
              "<table border=\"1\" class=\"dataframe\">\n",
              "  <thead>\n",
              "    <tr style=\"text-align: right;\">\n",
              "      <th></th>\n",
              "      <th>store_id</th>\n",
              "      <th>item_id</th>\n",
              "      <th>wm_yr_wk</th>\n",
              "      <th>sell_price</th>\n",
              "      <th>id</th>\n",
              "    </tr>\n",
              "  </thead>\n",
              "  <tbody>\n",
              "    <tr>\n",
              "      <th>0</th>\n",
              "      <td>CA_1</td>\n",
              "      <td>HOBBIES_1_001</td>\n",
              "      <td>11325</td>\n",
              "      <td>9.58</td>\n",
              "      <td>HOBBIES_1_001_CA_1_validation</td>\n",
              "    </tr>\n",
              "    <tr>\n",
              "      <th>1</th>\n",
              "      <td>CA_1</td>\n",
              "      <td>HOBBIES_1_001</td>\n",
              "      <td>11326</td>\n",
              "      <td>9.58</td>\n",
              "      <td>HOBBIES_1_001_CA_1_validation</td>\n",
              "    </tr>\n",
              "    <tr>\n",
              "      <th>2</th>\n",
              "      <td>CA_1</td>\n",
              "      <td>HOBBIES_1_001</td>\n",
              "      <td>11327</td>\n",
              "      <td>8.26</td>\n",
              "      <td>HOBBIES_1_001_CA_1_validation</td>\n",
              "    </tr>\n",
              "    <tr>\n",
              "      <th>3</th>\n",
              "      <td>CA_1</td>\n",
              "      <td>HOBBIES_1_001</td>\n",
              "      <td>11328</td>\n",
              "      <td>8.26</td>\n",
              "      <td>HOBBIES_1_001_CA_1_validation</td>\n",
              "    </tr>\n",
              "    <tr>\n",
              "      <th>4</th>\n",
              "      <td>CA_1</td>\n",
              "      <td>HOBBIES_1_001</td>\n",
              "      <td>11329</td>\n",
              "      <td>8.26</td>\n",
              "      <td>HOBBIES_1_001_CA_1_validation</td>\n",
              "    </tr>\n",
              "  </tbody>\n",
              "</table>\n",
              "</div>"
            ],
            "text/plain": [
              "  store_id        item_id  wm_yr_wk  sell_price                             id\n",
              "0     CA_1  HOBBIES_1_001     11325        9.58  HOBBIES_1_001_CA_1_validation\n",
              "1     CA_1  HOBBIES_1_001     11326        9.58  HOBBIES_1_001_CA_1_validation\n",
              "2     CA_1  HOBBIES_1_001     11327        8.26  HOBBIES_1_001_CA_1_validation\n",
              "3     CA_1  HOBBIES_1_001     11328        8.26  HOBBIES_1_001_CA_1_validation\n",
              "4     CA_1  HOBBIES_1_001     11329        8.26  HOBBIES_1_001_CA_1_validation"
            ]
          },
          "metadata": {
            "tags": []
          },
          "execution_count": 15
        }
      ]
    },
    {
      "cell_type": "code",
      "metadata": {
        "id": "40TRz9PvWBNE",
        "colab_type": "code",
        "colab": {}
      },
      "source": [
        "def make_dataframe():\n",
        "    # Wide format dataset \n",
        "    df_wide_train = sales_train_val_df.drop(columns=[\"item_id\", \"dept_id\", \"cat_id\", \"state_id\",\"store_id\", \"id\"]).T\n",
        "    df_wide_train.index = calendar_df[\"date\"][:1913]\n",
        "    df_wide_train.columns = sales_train_val_df[\"id\"]\n",
        "    \n",
        "    # Making test label dataset\n",
        "    df_wide_test = pd.DataFrame(np.zeros(shape=(56, len(df_wide_train.columns))), index=calendar_df.date[1913:], columns=df_wide_train.columns)\n",
        "    df_wide = pd.concat([df_wide_train, df_wide_test])\n",
        "\n",
        "    # Convert wide format to long format\n",
        "    df_long = df_wide.stack().reset_index(1)\n",
        "    df_long.columns = [\"id\", \"value\"]\n",
        "\n",
        "    del df_wide_train, df_wide_test, df_wide\n",
        "    gc.collect()\n",
        "    \n",
        "    df = pd.merge(pd.merge(df_long.reset_index(), calendar_df, on=\"date\"), sell_prices_df, on=[\"id\", \"wm_yr_wk\"])\n",
        "    df = df.drop(columns=[\"d\"])\n",
        "#     df[[\"cat_id\", \"store_id\", \"item_id\", \"id\", \"dept_id\"]] = df[[\"cat_id\"\", store_id\", \"item_id\", \"id\", \"dept_id\"]].astype(\"category\")\n",
        "    df[\"sell_price\"] = df[\"sell_price\"].astype(\"float16\")   \n",
        "    df[\"value\"] = df[\"value\"].astype(\"int32\")\n",
        "    df[\"state_id\"] = df[\"store_id\"].str[:2].astype(\"category\")\n",
        "\n",
        "\n",
        "    del df_long\n",
        "    gc.collect()\n",
        "\n",
        "    return df\n",
        "\n",
        "df = make_dataframe()"
      ],
      "execution_count": 0,
      "outputs": []
    },
    {
      "cell_type": "code",
      "metadata": {
        "id": "znozwelvX3ZN",
        "colab_type": "code",
        "colab": {}
      },
      "source": [
        "TEST_ID = \"HOBBIES_1_008_CA_1_validation\""
      ],
      "execution_count": 0,
      "outputs": []
    },
    {
      "cell_type": "markdown",
      "metadata": {
        "id": "fhyf1gfQauom",
        "colab_type": "text"
      },
      "source": [
        "### Just checking out what it looks like before. Chopping off the end in order to calculate error."
      ]
    },
    {
      "cell_type": "code",
      "metadata": {
        "id": "mbjWKeKDa2aq",
        "colab_type": "code",
        "colab": {
          "base_uri": "https://localhost:8080/",
          "height": 51
        },
        "outputId": "445b112b-c7c3-4e36-9c43-583be1f62ec9"
      },
      "source": [
        "practice_df = df[df.id == TEST_ID].rename(columns={\n",
        "    'date': 'ds',\n",
        "    \"value\": \"y\"\n",
        "})[[\"ds\", \"y\"]]\n",
        "\n",
        "\n",
        "practice_df_train = practice_df[:-365]\n",
        "practice_df_val = practice_df[-365:]\n",
        "print(f\"practice_df_train shape: {practice_df_train.shape}\")\n",
        "print(f\"practice_df_val shape: {practice_df_val.shape}\")"
      ],
      "execution_count": 35,
      "outputs": [
        {
          "output_type": "stream",
          "text": [
            "practice_df_train shape: (1604, 2)\n",
            "practice_df_val shape: (365, 2)\n"
          ],
          "name": "stdout"
        }
      ]
    },
    {
      "cell_type": "markdown",
      "metadata": {
        "id": "cAV7VtGFeyWl",
        "colab_type": "text"
      },
      "source": [
        "WRMSSE formula. Currently initializing weights to None. fuckin child's play"
      ]
    },
    {
      "cell_type": "code",
      "metadata": {
        "id": "Cyi0OA2Od4Qp",
        "colab_type": "code",
        "colab": {}
      },
      "source": [
        "def WRMSSE(y_true,y_pred,weights=None):\n",
        "  RMSE = np.sqrt(sklearn.metrics.mean_squared_error(y_true,y_pred))\n",
        "  if weights:\n",
        "    return np.multiply(weights, RMSE)\n",
        "  return RMSE\n",
        "\n"
      ],
      "execution_count": 0,
      "outputs": []
    },
    {
      "cell_type": "markdown",
      "metadata": {
        "id": "FABqBsRsfqjr",
        "colab_type": "text"
      },
      "source": [
        "Let's try predicting this with prophet and see how we do."
      ]
    },
    {
      "cell_type": "code",
      "metadata": {
        "id": "dskkta1-fpj8",
        "colab_type": "code",
        "colab": {
          "base_uri": "https://localhost:8080/",
          "height": 34
        },
        "outputId": "c5eb930c-673f-49f3-f08b-1619366f9607"
      },
      "source": [
        "m = Prophet()\n",
        "m.fit(practice_df_train)\n",
        "\n",
        "future = m.make_future_dataframe(periods=365)\n",
        "forecast = m.predict(future)\n",
        "predictions = forecast['yhat']"
      ],
      "execution_count": 38,
      "outputs": [
        {
          "output_type": "stream",
          "text": [
            "INFO:fbprophet:Disabling daily seasonality. Run prophet with daily_seasonality=True to override this.\n"
          ],
          "name": "stderr"
        }
      ]
    },
    {
      "cell_type": "markdown",
      "metadata": {
        "id": "37Gv2VM3h8in",
        "colab_type": "text"
      },
      "source": [
        "Alright we got the predictions. Let's see how we did."
      ]
    },
    {
      "cell_type": "code",
      "metadata": {
        "id": "m-RB9wE1h7T-",
        "colab_type": "code",
        "colab": {
          "base_uri": "https://localhost:8080/",
          "height": 34
        },
        "outputId": "e982192c-7e6d-4f11-ae6b-05aebd7b8afb"
      },
      "source": [
        "future_predictions = predictions[-365:]\n",
        "error = WRMSSE(practice_df_val['y'],future_predictions)\n",
        "print(error)"
      ],
      "execution_count": 44,
      "outputs": [
        {
          "output_type": "stream",
          "text": [
            "11.344989389681675\n"
          ],
          "name": "stdout"
        }
      ]
    },
    {
      "cell_type": "code",
      "metadata": {
        "id": "OcjXK5S6aoE-",
        "colab_type": "code",
        "colab": {
          "base_uri": "https://localhost:8080/",
          "height": 441
        },
        "outputId": "ba856ce3-1dcb-48a0-b3f9-700859428c59"
      },
      "source": [
        "fig1 = m.plot(forecast)"
      ],
      "execution_count": 45,
      "outputs": [
        {
          "output_type": "display_data",
          "data": {
            "image/png": "[encoded data removed]",
            "text/plain": [
              "<Figure size 720x432 with 1 Axes>"
            ]
          },
          "metadata": {
            "tags": []
          }
        }
      ]
    },
    {
      "cell_type": "code",
      "metadata": {
        "id": "3IczHhtkjSfO",
        "colab_type": "code",
        "colab": {
          "base_uri": "https://localhost:8080/",
          "height": 458
        },
        "outputId": "a586e4c0-490e-4f32-d425-7bd5e6d66cbb"
      },
      "source": [
        "new_m = Prophet()\n",
        "new_m.fit(practice_df)\n",
        "correct_forecast = new_m.predict(practice_df)\n",
        "fig2 = new_m.plot(correct_forecast)"
      ],
      "execution_count": 51,
      "outputs": [
        {
          "output_type": "stream",
          "text": [
            "INFO:fbprophet:Disabling daily seasonality. Run prophet with daily_seasonality=True to override this.\n"
          ],
          "name": "stderr"
        },
        {
          "output_type": "display_data",
          "data": {
            "image/png": "[encoded data removed]",
            "text/plain": [
              "<Figure size 720x432 with 1 Axes>"
            ]
          },
          "metadata": {
            "tags": []
          }
        }
      ]
    }
  ]
}